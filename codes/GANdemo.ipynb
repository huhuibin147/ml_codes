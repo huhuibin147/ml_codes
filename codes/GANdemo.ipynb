{
  "nbformat": 4,
  "nbformat_minor": 0,
  "metadata": {
    "colab": {
      "name": "GANdemo.ipynb",
      "version": "0.3.2",
      "provenance": [],
      "collapsed_sections": [],
      "include_colab_link": true
    },
    "kernelspec": {
      "name": "python3",
      "display_name": "Python 3"
    }
  },
  "cells": [
    {
      "cell_type": "markdown",
      "metadata": {
        "id": "view-in-github",
        "colab_type": "text"
      },
      "source": [
        "<a href=\"https://colab.research.google.com/github/huhuibin147/ml_learning/blob/master/codes/GANdemo.ipynb\" target=\"_parent\"><img src=\"https://colab.research.google.com/assets/colab-badge.svg\" alt=\"Open In Colab\"/></a>"
      ]
    },
    {
      "cell_type": "code",
      "metadata": {
        "id": "tqpMKA1woGeK",
        "colab_type": "code",
        "colab": {}
      },
      "source": [
        "# -*- coding: utf-8 -*-\n",
        "\"\"\"\n",
        "Created on Mon Jun 24 16:29:45 2019\n",
        "\n",
        "\"\"\"\n",
        "\n",
        "import tensorflow as tf\n",
        "import numpy as np\n",
        "import matplotlib.pyplot as plt\n",
        "\n",
        "tf.set_random_seed(1)\n",
        "np.random.seed(1)\n",
        "\n",
        "# Hyper Parameters\n",
        "BATCH_SIZE = 64\n",
        "LR_G = 0.0001           # learning rate for generator\n",
        "LR_D = 0.0001           # learning rate for discriminator\n",
        "N_IDEAS = 5             # think of this as number of ideas for generating an art work (Generator)\n",
        "ART_COMPONENTS = 15     # it could be total point G can draw in the canvas\n",
        "PAINT_POINTS = np.vstack([np.linspace(-1, 1, ART_COMPONENTS) for _ in range(BATCH_SIZE)])\n",
        "\n",
        "# show our beautiful painting range\n",
        "#plt.plot(PAINT_POINTS[0], 2 * np.power(PAINT_POINTS[0], 2) + 1, c='#74BCFF', lw=3, label='upper bound')\n",
        "#plt.plot(PAINT_POINTS[0], 1 * np.power(PAINT_POINTS[0], 2) + 0, c='#FF9359', lw=3, label='lower bound')\n",
        "#plt.legend(loc='upper right')\n",
        "#plt.show()\n",
        "\n",
        "\n",
        "def artist_works():     # painting from the famous artist (real target)\n",
        "    a = np.random.uniform(1, 2, size=BATCH_SIZE)[:, np.newaxis]\n",
        "    paintings = a * np.power(PAINT_POINTS, 2) + (a-1)\n",
        "    return paintings\n",
        "\n",
        "\n",
        "with tf.variable_scope('Generator'):\n",
        "    G_in = tf.placeholder(tf.float32, [None, N_IDEAS])          # random ideas (could from normal distribution)\n",
        "    G_l1 = tf.layers.dense(G_in, 128, tf.nn.relu)\n",
        "    G_out = tf.layers.dense(G_l1, ART_COMPONENTS)               # making a painting from these random ideas\n",
        "\n",
        "with tf.variable_scope('Discriminator'):\n",
        "    real_art = tf.placeholder(tf.float32, [None, ART_COMPONENTS], name='real_in')   # receive art work from the famous artist\n",
        "    D_l0 = tf.layers.dense(real_art, 128, tf.nn.relu, name='l')\n",
        "    prob_artist0 = tf.layers.dense(D_l0, 1, tf.nn.sigmoid, name='out')              # probability that the art work is made by artist\n",
        "    # reuse layers for generator\n",
        "    D_l1 = tf.layers.dense(G_out, 128, tf.nn.relu, name='l', reuse=True)            # receive art work from a newbie like G\n",
        "    prob_artist1 = tf.layers.dense(D_l1, 1, tf.nn.sigmoid, name='out', reuse=True)  # probability that the art work is made by artist\n",
        "\n",
        "D_loss = -tf.reduce_mean(tf.log(prob_artist0) + tf.log(1-prob_artist1))\n",
        "G_loss = tf.reduce_mean(tf.log(1-prob_artist1))\n",
        "\n",
        "train_D = tf.train.AdamOptimizer(LR_D).minimize(\n",
        "    D_loss, var_list=tf.get_collection(tf.GraphKeys.TRAINABLE_VARIABLES, scope='Discriminator'))\n",
        "train_G = tf.train.AdamOptimizer(LR_G).minimize(\n",
        "    G_loss, var_list=tf.get_collection(tf.GraphKeys.TRAINABLE_VARIABLES, scope='Generator'))\n",
        "\n",
        "sess = tf.Session()\n",
        "sess.run(tf.global_variables_initializer())\n",
        "\n",
        "plt.ion()   # something about continuous plotting\n",
        "for step in range(5000):\n",
        "    artist_paintings = artist_works()           # real painting from artist\n",
        "    G_ideas = np.random.randn(BATCH_SIZE, N_IDEAS)\n",
        "    G_paintings, pa0, Dl = sess.run([G_out, prob_artist0, D_loss, train_D, train_G],    # train and get results\n",
        "                                    {G_in: G_ideas, real_art: artist_paintings})[:3]\n",
        "\n",
        "    if step % 50 == 0:  # plotting\n",
        "        plt.cla()\n",
        "        plt.plot(PAINT_POINTS[0], G_paintings[0], c='#4AD631', lw=3, label='Generated painting',)\n",
        "        plt.plot(PAINT_POINTS[0], 2 * np.power(PAINT_POINTS[0], 2) + 1, c='#74BCFF', lw=3, label='upper bound')\n",
        "        plt.plot(PAINT_POINTS[0], 1 * np.power(PAINT_POINTS[0], 2) + 0, c='#FF9359', lw=3, label='lower bound')\n",
        "        plt.text(-.5, 2.3, 'D accuracy=%.2f (0.5 for D to converge)' % pa0.mean(), fontdict={'size': 15})\n",
        "        plt.text(-.5, 2, 'D score= %.2f (-1.38 for G to converge)' % -Dl, fontdict={'size': 15})\n",
        "        plt.ylim((0, 3)); plt.legend(loc='upper right', fontsize=12); plt.draw(); plt.pause(0.01)\n",
        "\n",
        "plt.ioff()\n",
        "plt.show()\n",
        "\n"
      ],
      "execution_count": 0,
      "outputs": []
    },
    {
      "cell_type": "code",
      "metadata": {
        "id": "wcvfoHUSqBnp",
        "colab_type": "code",
        "colab": {}
      },
      "source": [
        ""
      ],
      "execution_count": 0,
      "outputs": []
    }
  ]
}